{
 "cells": [
  {
   "cell_type": "markdown",
   "metadata": {},
   "source": [
    "# Compreendendo os diferentes tipos de Proxy"
   ]
  },
  {
   "cell_type": "markdown",
   "metadata": {},
   "source": [
    "> Proxy Virtual\n",
    "\n",
    "Funciona como um \"placeholder\" para objetos que são muito pesados para instanciar.\n",
    "O objeto real é criado apenas quando o cliente faz sua primeira requisição ou seu primerio acesso ao objeto."
   ]
  },
  {
   "cell_type": "markdown",
   "metadata": {},
   "source": [
    "> Proxy Remoto\n",
    "\n",
    "Oferece uma representação local de um objeto real que está em um servidor remoto ou em um espaço de endereçamento diferente."
   ]
  },
  {
   "cell_type": "markdown",
   "metadata": {},
   "source": [
    "> Proxy de Proteção\n",
    "\n",
    "Controla o Acesso às partes sensíveis de um objeto real. O proxy internamente ajuda na proteção das funcionalidades essenciais do site verificando agentes não reconhecidos ou não autorizados. </br>\n",
    "Desta forma, o objeto substituto verifica se quem faz a chamada tem as permissões de acesso necessárias para encaminhar a requisição."
   ]
  },
  {
   "cell_type": "markdown",
   "metadata": {},
   "source": [
    "> Proxy Inteligente\n",
    "\n",
    "Interpõe ações adicionais quando um objeto é acessado. </br>\n",
    "Geralmente, um componente como este é chamado por vários serviços diferentes para que eles possam concluir suas tarefas, e pode resultar em problemas como recursos compartilhados. </br>\n",
    "Em vez de os serviços chamarem diretamente o componente, um proxy inteligente é encarregado por verificar se o objeto está sendo executado antes de ser acessado a fim de garantir que nenhum outro objeto possa alterá-lo."
   ]
  }
 ],
 "metadata": {
  "language_info": {
   "name": "python"
  },
  "orig_nbformat": 4
 },
 "nbformat": 4,
 "nbformat_minor": 2
}
