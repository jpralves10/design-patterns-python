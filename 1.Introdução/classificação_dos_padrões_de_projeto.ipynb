{
 "cells": [
  {
   "cell_type": "markdown",
   "metadata": {},
   "source": [
    "# Classificação dos Padrões de Projeto"
   ]
  },
  {
   "cell_type": "markdown",
   "metadata": {},
   "source": [
    "> Padrões de Criação\n",
    "- Funcionam com base no modo como os objetos podem ser criados;\n",
    "- Isolam os detalhes da criação dos objetos;\n",
    "- O código é independente do tipo de objeto a ser criado;\n",
    "Um exemplo deste padrão de criação é o padrão Singleton"
   ]
  },
  {
   "cell_type": "markdown",
   "metadata": {},
   "source": [
    "> Padrões Estruturais\n",
    "- Determinam o design da estrutura de objetos e classes;\n",
    "- O foco está em simplificar a estrutura e identificar o relacionamento entre classes e objetos;\n",
    "- São centrados em herança e composição de classes;\n",
    "Um exemplo deste padrão estrutural é o padrão Adapter"
   ]
  },
  {
   "cell_type": "markdown",
   "metadata": {},
   "source": [
    "> Padrões Comportamentais\n",
    "- Se preocupam com a interação entre os objetos e suas responsabilidades;\n",
    "- Os objetos devem ser capazes de interagir e, mesmo assim, devem ter baixo acoplamento;\n",
    "Um exemplo deste padrão comportamental é o padrão Observer"
   ]
  }
 ],
 "metadata": {
  "language_info": {
   "name": "python"
  },
  "orig_nbformat": 4
 },
 "nbformat": 4,
 "nbformat_minor": 2
}
